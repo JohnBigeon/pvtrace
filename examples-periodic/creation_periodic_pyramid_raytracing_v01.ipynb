{
 "cells": [
  {
   "cell_type": "code",
   "execution_count": 1,
   "metadata": {},
   "outputs": [
    {
     "name": "stderr",
     "output_type": "stream",
     "text": [
      "INFO:numexpr.utils:NumExpr defaulting to 8 threads.\n"
     ]
    }
   ],
   "source": [
    "# Package\n",
    "import logging\n",
    "logging.getLogger('trimesh').disabled = True\n",
    "logging.getLogger('shapely.geos').disabled = True\n",
    "logging.getLogger('matplotlib').setLevel(logging.CRITICAL)\n",
    "import numpy as np\n",
    "import matplotlib.pyplot as plt\n",
    "from pvtrace import *\n",
    "from pvtrace.data import lumogen_f_red_305\n",
    "import functools\n",
    "import trimesh\n",
    "from trimesh import transformations as trf\n",
    "import math\n",
    "import random\n",
    "import time\n",
    "from pylab import imread\n",
    "from scipy.ndimage import gaussian_filter\n",
    "import pyvista as pv\n",
    "from pyvista import examples\n",
    "import pandas as pd"
   ]
  },
  {
   "cell_type": "code",
   "execution_count": 2,
   "metadata": {},
   "outputs": [
    {
     "data": {
      "text/plain": [
       "b'\\x00\\x00\\x00\\x00\\x00\\x00\\x00\\x00\\x00\\x00\\x00\\x00\\x00\\x00\\x00\\x00\\x00\\x00\\x00\\x00\\x00\\x00\\x00\\x00\\x00\\x00\\x00\\x00\\x00\\x00\\x00\\x00\\x00\\x00\\x00\\x00\\x00\\x00\\x00\\x00\\x00\\x00\\x00\\x00\\x00\\x00\\x00\\x00\\x00\\x00\\x00\\x00\\x00\\x00\\x00\\x00\\x00\\x00\\x00\\x00\\x00\\x00\\x00\\x00\\x00\\x00\\x00\\x00\\x00\\x00\\x00\\x00\\x00\\x00\\x00\\x00\\x00\\x00\\x00\\x00\\x08\\x00\\x00\\x00\\x00\\x00\\x00\\x00.\\xf9d?.\\xf9\\xe4>\\x00\\x00\\x80?\\x00\\x00\\x00\\x00\\x00\\x00\\x80?\\x00\\x00\\x80?\\x00\\x00\\x80?\\x00\\x00\\x80\\xbf\\x00\\x00\\x80\\xbf\\x00\\x00\\x80?\\x00\\x00\\x80\\xbf\\x00\\x00\\x00\\x00\\x00\\x00.\\xf9d\\xbf.\\xf9\\xe4>\\x00\\x00\\x80\\xbf\\x00\\x00\\x00\\x00\\x00\\x00\\x80?\\x00\\x00\\x80\\xbf\\x00\\x00\\x80\\xbf\\x00\\x00\\x80\\xbf\\x00\\x00\\x80?\\x00\\x00\\x80\\xbf\\x00\\x00\\x80\\xbf\\x00\\x00\\x00\\x00\\x00\\x00\\x00\\x00\\x00\\x00\\x00\\x00\\x80\\xbf\\x00\\x00\\x80\\xbf\\x00\\x00\\x80?\\x00\\x00\\x80\\xbf\\x00\\x00\\x80?\\x00\\x00\\x80?\\x00\\x00\\x80\\xbf\\x00\\x00\\x80?\\x00\\x00\\x80\\xbf\\x00\\x00\\x80\\xbf\\x00\\x00\\x00\\x00\\x80?\\x00\\x00\\x00\\x80\\x00\\x00\\x00\\x00\\x00\\x00\\x80?\\x00\\x00\\x00\\x00\\x00\\x00\\x80?\\x00\\x00\\x80?\\x00\\x00\\x80\\xbf\\x00\\x00\\x80\\xbf\\x00\\x00\\x80?\\x00\\x00\\x80?\\x00\\x00\\x80\\xbf\\x00\\x00\\x00\\x00\\x80\\xbf\\x00\\x00\\x00\\x80\\x00\\x00\\x00\\x80\\x00\\x00\\x80\\xbf\\x00\\x00\\x00\\x00\\x00\\x00\\x80?\\x00\\x00\\x80\\xbf\\x00\\x00\\x80?\\x00\\x00\\x80\\xbf\\x00\\x00\\x80\\xbf\\x00\\x00\\x80\\xbf\\x00\\x00\\x80\\xbf\\x00\\x00\\x00\\x00\\x00\\x80.\\xf9d?.\\xf9\\xe4>\\x00\\x00\\x80\\xbf\\x00\\x00\\x00\\x00\\x00\\x00\\x80?\\x00\\x00\\x80?\\x00\\x00\\x00\\x00\\x00\\x00\\x80?\\x00\\x00\\x80\\xbf\\x00\\x00\\x80?\\x00\\x00\\x80\\xbf\\x00\\x00\\x00\\x00\\x00\\x00.\\xf9d\\xbf.\\xf9\\xe4>\\x00\\x00\\x80?\\x00\\x00\\x00\\x00\\x00\\x00\\x80?\\x00\\x00\\x80\\xbf\\x00\\x00\\x00\\x00\\x00\\x00\\x80?\\x00\\x00\\x80?\\x00\\x00\\x80\\xbf\\x00\\x00\\x80\\xbf\\x00\\x00\\x00\\x00\\x00\\x00\\x00\\x00\\x00\\x00\\x00\\x00\\x80\\xbf\\x00\\x00\\x80\\xbf\\x00\\x00\\x80\\xbf\\x00\\x00\\x80\\xbf\\x00\\x00\\x80\\xbf\\x00\\x00\\x80?\\x00\\x00\\x80\\xbf\\x00\\x00\\x80?\\x00\\x00\\x80\\xbf\\x00\\x00\\x80\\xbf\\x00\\x00'"
      ]
     },
     "execution_count": 2,
     "metadata": {},
     "output_type": "execute_result"
    }
   ],
   "source": [
    "###############################################\n",
    "# Creation of the myobj. from vertices/faces\n",
    "###############################################\n",
    "# My pyramid\n",
    "# Define vertices\n",
    "vert = np.array([\n",
    "    [-1,-1,-1],\n",
    "    [-1,0,1],\n",
    "    [-1,1,-1],\n",
    "    [1,-1,-1],\n",
    "    [1,0,1],\n",
    "    [1,1,-1]\n",
    "    ])\n",
    "\n",
    "# Define faces\n",
    "fa = np.array([\n",
    "    [4,5,2],\n",
    "    [1,0,3],\n",
    "    [2,5,3],\n",
    "    [4,3,5],\n",
    "    [1,2,0],\n",
    "    [1,4,2],\n",
    "    [4,1,3],\n",
    "    [0,2,3]\n",
    "    ])\n",
    "# Create the myobject with trimesh\n",
    "mesh = trimesh.Trimesh(vertices=vert, faces=fa, process=True, origin=(0,0,0))\n",
    "mesh.export('myobj.stl')"
   ]
  },
  {
   "cell_type": "code",
   "execution_count": 3,
   "metadata": {},
   "outputs": [],
   "source": [
    "###############################################\n",
    "# Import Objects\n",
    "# myobj = trimesh.load_mesh(\"monkey_Suzanne.stl\", enable_post_processing=True, solid=True) # https://www.thingiverse.com/thing:1287391\n",
    "myobj   = trimesh.load_mesh(\"myobj.stl\", enable_post_processing=True, solid=True) # Created with creation_exotic_obj_v01.py"
   ]
  },
  {
   "cell_type": "code",
   "execution_count": 4,
   "metadata": {},
   "outputs": [],
   "source": [
    "###############################################\n",
    "# Parameters of the geometry\n",
    "w = 3.0 # width\n",
    "h = 2.0 # height\n",
    "L = 4.0 # length\n",
    "sx = 10\n",
    "\n",
    "###############################################\n",
    "np.random.seed(1988)    # Keep the same seed for random numbers, at the end, the data will be same for every new simulations\n",
    "numb_photons = 25       # Number of photons"
   ]
  },
  {
   "cell_type": "code",
   "execution_count": 5,
   "metadata": {},
   "outputs": [],
   "source": [
    "###############################################\n",
    "# Dye Lumogen F Red\n",
    "x = np.linspace(200, 800, 200)  # wavelength, units: nm\n",
    "absorption_spectrum = lumogen_f_red_305.absorption(x)  # units: nm-1\n",
    "emission_spectrum = lumogen_f_red_305.emission(x)      # units: nm-1"
   ]
  },
  {
   "cell_type": "code",
   "execution_count": 6,
   "metadata": {},
   "outputs": [
    {
     "data": {
      "text/plain": [
       "<trimesh.Trimesh(vertices.shape=(6, 3), faces.shape=(8, 3))>"
      ]
     },
     "execution_count": 6,
     "metadata": {},
     "output_type": "execute_result"
    }
   ],
   "source": [
    "###############################################\n",
    "# Transformation\n",
    "# Get real dimensions of the myobj\n",
    "w_real  = abs(myobj.bounds[0,0]) + abs(myobj.bounds[1,0])\n",
    "L_real  = abs(myobj.bounds[0,0]) + abs(myobj.bounds[1,0])\n",
    "h_real  = abs(myobj.bounds[0,2]) + abs(myobj.bounds[1,2])\n",
    "\n",
    "# Calculate the scale ratio\n",
    "f_scal_x = sx / w_real\n",
    "f_scal_y = w / L_real\n",
    "f_scal_z = h / h_real\n",
    "\n",
    "# Create matrix for transformation\n",
    "scale   = np.array([f_scal_x, f_scal_y, f_scal_z])                 # scale : vector of 3 scaling factors\n",
    "shear   = np.array([0.0, 0.0, 0.0])                 # shear : list of shear factors for x-y, x-z, y-z axes\n",
    "angles  = np.array([0.0, 0.0, 0.0]) * 0.5*math.pi   # angles : list of Euler angles about static x, y, z axes\n",
    "trans   = np.array([0.0, 0.0, 0.0])                 # translate : translation vector along x, y, z axes\n",
    "persp   = np.array([1.0, 1.0, 1.0, 1.0])            # perspective : perspective partition of matrix\n",
    "       \n",
    "M0 = trf.compose_matrix(scale, shear, angles, trans, persp)\n",
    "\n",
    "# Check the transformation before/after\n",
    "#print(myobj.bounds)\n",
    "myobj.apply_transform(M0) # Apply transf\n",
    "#print(myobj.bounds)"
   ]
  },
  {
   "cell_type": "code",
   "execution_count": 7,
   "metadata": {},
   "outputs": [],
   "source": [
    "###############################################\n",
    "# Watertight\n",
    "if myobj.is_watertight == False:\n",
    "    print('The structure is not watertight !!!')\n",
    "    #trimesh.repair.broken_faces(myobj, color=[255,0,0,255])\n",
    "    myobj.show(smooth=False)\n",
    "    # Repair the mesh\n",
    "    # myobj = trimesh.convex.convex_hull(myobj, qhull_options='QbB Pp Qt') #qhull_options='QbB Pp Qt' #http://www.qhull.org/html/qh-quick.htm#options\n",
    "    #print(trimesh.repair.broken_faces(myobj)) #Index of faces which breake the watertight status of the mesh\n",
    "    trimesh.repair.fill_holes(myobj)\n",
    "    trimesh.repair.fix_inversion(myobj)\n",
    "    trimesh.repair.fix_normals(myobj)\n",
    "    trimesh.repair.fix_winding(myobj)\n",
    "    myobj.show(smooth=False)\n",
    "    if myobj.is_watertight == False:\n",
    "        print('Error !')"
   ]
  },
  {
   "cell_type": "code",
   "execution_count": 8,
   "metadata": {},
   "outputs": [
    {
     "data": {
      "text/plain": [
       "Node(cubix)"
      ]
     },
     "execution_count": 8,
     "metadata": {},
     "output_type": "execute_result"
    }
   ],
   "source": [
    "###############################################\n",
    "# Environment\n",
    "world = Node(\n",
    "    name=\"world (air)\",\n",
    "    geometry=Sphere(\n",
    "        radius=20.0,\n",
    "        material=Material(refractive_index=1.0)\n",
    "    )\n",
    ")\n",
    "\n",
    "cube = Node(\n",
    "    name='cubix',\n",
    "    geometry=\n",
    "        Box((sx, sx, h),\n",
    "        material=Material(refractive_index=4.0)\n",
    "        ),\n",
    "    parent=world\n",
    "    )\n",
    "\n",
    "cube.translate((0, 0, h/2))"
   ]
  },
  {
   "cell_type": "code",
   "execution_count": 9,
   "metadata": {},
   "outputs": [],
   "source": [
    "###############################################\n",
    "# Define our geometry\n",
    "i = 0\n",
    "while -sx/2+ w/2+ i*w < sx/2:\n",
    "    surf = Node(\n",
    "        name='obj_num_%d' %i,\n",
    "        geometry=Mesh(  \n",
    "            myobj,\n",
    "            material=Material(refractive_index=4.0,\n",
    "                              components=[\n",
    "                                  Luminophore(\n",
    "                                      coefficient=np.column_stack((x, absorption_spectrum)),\n",
    "                                      emission=np.column_stack((x, emission_spectrum)),\n",
    "                                      quantum_yield=1.0,\n",
    "                                      phase_function=isotropic),\n",
    "                                  Scatterer(coefficient=0.0)]),\n",
    "                              ),                         \n",
    "        parent=world\n",
    "        ).translate([0,-sx/2+ w/2+ i*w, h+abs(myobj.bounds[0,2])])\n",
    "    i += 1"
   ]
  },
  {
   "cell_type": "code",
   "execution_count": 10,
   "metadata": {},
   "outputs": [
    {
     "data": {
      "text/plain": [
       "Node(Light ex)"
      ]
     },
     "execution_count": 10,
     "metadata": {},
     "output_type": "execute_result"
    }
   ],
   "source": [
    "###############################################\n",
    "# The source of rays\n",
    "light = Node(\n",
    "    name=\"Light ex\",\n",
    "    light=Light(position=functools.partial(rectangular_mask, 0.1, 0.1)),\n",
    "    parent=world\n",
    "    )\n",
    "\n",
    "light.rotate(np.pi*1.0, (0, 1, 0))\n",
    "light.translate((0, 0, 10))"
   ]
  },
  {
   "cell_type": "code",
   "execution_count": 11,
   "metadata": {},
   "outputs": [
    {
     "name": "stdout",
     "output_type": "stream",
     "text": [
      "You can open the visualizer by visiting the following URL:\n",
      "http://127.0.0.1:7000/static/\n"
     ]
    }
   ],
   "source": [
    "###############################################\n",
    "# Renderer: Use meshcat to render the scene (optional)\n",
    "viewer = MeshcatRenderer(open_browser=True, transparency=True, opacity=0.25, wireframe=True)\n",
    "scene = Scene(world)\n",
    "viewer.render(scene)"
   ]
  },
  {
   "cell_type": "code",
   "execution_count": 12,
   "metadata": {},
   "outputs": [],
   "source": [
    "###############################################\n",
    "# Iterations of rays\n",
    "for ray in scene.emit(numb_photons):\n",
    "    history = photon_tracer.follow(scene, ray, maxsteps=1000)\n",
    "    path, events = zip(*history)\n",
    "    viewer.add_ray_path(path) \n",
    "    time.sleep(0.5)"
   ]
  },
  {
   "cell_type": "code",
   "execution_count": null,
   "metadata": {},
   "outputs": [],
   "source": []
  }
 ],
 "metadata": {
  "kernelspec": {
   "display_name": "pvtrace-env",
   "language": "python",
   "name": "pvtrace-env"
  },
  "language_info": {
   "codemirror_mode": {
    "name": "ipython",
    "version": 3
   },
   "file_extension": ".py",
   "mimetype": "text/x-python",
   "name": "python",
   "nbconvert_exporter": "python",
   "pygments_lexer": "ipython3",
   "version": "3.9.7"
  }
 },
 "nbformat": 4,
 "nbformat_minor": 4
}
