{
 "cells": [
  {
   "cell_type": "code",
   "execution_count": 1,
   "metadata": {},
   "outputs": [],
   "source": [
    "import pandas as pd\n",
    "import matplotlib.pyplot as plt\n",
    "import seaborn as sns\n",
    "import numpy as np"
   ]
  },
  {
   "cell_type": "code",
   "execution_count": 7,
   "metadata": {},
   "outputs": [
    {
     "data": {
      "image/png": "[encoded data removed]",
      "text/plain": [
       "<Figure size 360x360 with 1 Axes>"
      ]
     },
     "metadata": {},
     "output_type": "display_data"
    },
    {
     "name": "stdout",
     "output_type": "stream",
     "text": [
      "Ideal scaling has gradient 1. Observed scaling: 0.306545\n"
     ]
    }
   ],
   "source": [
    "df = pd.read_csv(\"mp_check.csv\", index_col=0)\n",
    "df[\"speed_up\"] = df.throughput_rays_per_sec.values/df.throughput_rays_per_sec.values[0]\n",
    "sns.set_style(\"whitegrid\")\n",
    "sns.lmplot(x=\"workers\", y=\"speed_up\", data=df)\n",
    "x = np.arange(np.min(df.workers), np.max(df.workers)+1)\n",
    "plt.plot(x, x, \"k--\", label=\"Ideal scaling\")\n",
    "plt.legend()\n",
    "plt.title(\"Multiprocessing\")\n",
    "plt.show()\n",
    "m, c = np.polyfit(df.workers.values, df.speed_up.values, 1)\n",
    "print(f\"Ideal scaling has gradient 1. Observed scaling: {m:f}\")"
   ]
  },
  {
   "cell_type": "code",
   "execution_count": 5,
   "metadata": {},
   "outputs": [
    {
     "data": {
      "text/html": [
       "<div>\n",
       "<style scoped>\n",
       "    .dataframe tbody tr th:only-of-type {\n",
       "        vertical-align: middle;\n",
       "    }\n",
       "\n",
       "    .dataframe tbody tr th {\n",
       "        vertical-align: top;\n",
       "    }\n",
       "\n",
       "    .dataframe thead th {\n",
       "        text-align: right;\n",
       "    }\n",
       "</style>\n",
       "<table border=\"1\" class=\"dataframe\">\n",
       "  <thead>\n",
       "    <tr style=\"text-align: right;\">\n",
       "      <th></th>\n",
       "      <th>secs_per_1000_rays</th>\n",
       "      <th>throughput_rays_per_sec</th>\n",
       "      <th>thrown</th>\n",
       "      <th>took</th>\n",
       "      <th>speed_up</th>\n",
       "    </tr>\n",
       "    <tr>\n",
       "      <th>workers</th>\n",
       "      <th></th>\n",
       "      <th></th>\n",
       "      <th></th>\n",
       "      <th></th>\n",
       "      <th></th>\n",
       "    </tr>\n",
       "  </thead>\n",
       "  <tbody>\n",
       "    <tr>\n",
       "      <th>2.0</th>\n",
       "      <td>25.338812</td>\n",
       "      <td>39.478347</td>\n",
       "      <td>5000.0</td>\n",
       "      <td>126.694060</td>\n",
       "      <td>1.023412</td>\n",
       "    </tr>\n",
       "    <tr>\n",
       "      <th>3.0</th>\n",
       "      <td>20.508218</td>\n",
       "      <td>48.832341</td>\n",
       "      <td>5000.0</td>\n",
       "      <td>102.541092</td>\n",
       "      <td>1.265899</td>\n",
       "    </tr>\n",
       "    <tr>\n",
       "      <th>4.0</th>\n",
       "      <td>16.166024</td>\n",
       "      <td>62.099487</td>\n",
       "      <td>5000.0</td>\n",
       "      <td>80.830120</td>\n",
       "      <td>1.609829</td>\n",
       "    </tr>\n",
       "    <tr>\n",
       "      <th>5.0</th>\n",
       "      <td>13.082948</td>\n",
       "      <td>76.499310</td>\n",
       "      <td>5000.0</td>\n",
       "      <td>65.414740</td>\n",
       "      <td>1.983121</td>\n",
       "    </tr>\n",
       "    <tr>\n",
       "      <th>6.0</th>\n",
       "      <td>11.291322</td>\n",
       "      <td>88.822466</td>\n",
       "      <td>5000.0</td>\n",
       "      <td>56.456608</td>\n",
       "      <td>2.302579</td>\n",
       "    </tr>\n",
       "    <tr>\n",
       "      <th>7.0</th>\n",
       "      <td>10.487680</td>\n",
       "      <td>95.379459</td>\n",
       "      <td>5000.0</td>\n",
       "      <td>52.438401</td>\n",
       "      <td>2.472558</td>\n",
       "    </tr>\n",
       "  </tbody>\n",
       "</table>\n",
       "</div>"
      ],
      "text/plain": [
       "         secs_per_1000_rays  throughput_rays_per_sec  thrown        took  \\\n",
       "workers                                                                    \n",
       "2.0               25.338812                39.478347  5000.0  126.694060   \n",
       "3.0               20.508218                48.832341  5000.0  102.541092   \n",
       "4.0               16.166024                62.099487  5000.0   80.830120   \n",
       "5.0               13.082948                76.499310  5000.0   65.414740   \n",
       "6.0               11.291322                88.822466  5000.0   56.456608   \n",
       "7.0               10.487680                95.379459  5000.0   52.438401   \n",
       "\n",
       "         speed_up  \n",
       "workers            \n",
       "2.0      1.023412  \n",
       "3.0      1.265899  \n",
       "4.0      1.609829  \n",
       "5.0      1.983121  \n",
       "6.0      2.302579  \n",
       "7.0      2.472558  "
      ]
     },
     "execution_count": 5,
     "metadata": {},
     "output_type": "execute_result"
    }
   ],
   "source": [
    "df_ave = df.groupby(\"workers\").mean()\n",
    "df_ave = df_ave.drop(columns=\"rep\")\n",
    "df_ave"
   ]
  }
 ],
 "metadata": {
  "kernelspec": {
   "display_name": "Python 3",
   "language": "python",
   "name": "python3"
  },
  "language_info": {
   "codemirror_mode": {
    "name": "ipython",
    "version": 3
   },
   "file_extension": ".py",
   "mimetype": "text/x-python",
   "name": "python",
   "nbconvert_exporter": "python",
   "pygments_lexer": "ipython3",
   "version": "3.7.8"
  }
 },
 "nbformat": 4,
 "nbformat_minor": 4
}
