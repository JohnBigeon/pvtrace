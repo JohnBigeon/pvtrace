{
 "cells": [
  {
   "cell_type": "code",
   "execution_count": 1,
   "metadata": {},
   "outputs": [],
   "source": [
    "import pandas as pd\n",
    "import matplotlib.pyplot as plt\n",
    "import seaborn as sns\n",
    "from scipy.optimize import curve_fit\n",
    "import numpy as np"
   ]
  },
  {
   "cell_type": "code",
   "execution_count": 4,
   "metadata": {},
   "outputs": [
    {
     "data": {
      "image/png": "[encoded data removed]",
      "text/plain": [
       "<Figure size 360x360 with 1 Axes>"
      ]
     },
     "metadata": {},
     "output_type": "display_data"
    },
    {
     "name": "stdout",
     "output_type": "stream",
     "text": [
      "Ideal scaling has gradient 1. Observed scaling: 0.515917\n"
     ]
    }
   ],
   "source": [
    "df = pd.read_csv(\"mp_check.csv\", index_col=0)\n",
    "df[\"speed_up\"] = df.throughput_rays_per_sec.values/df.throughput_rays_per_sec.values[0]\n",
    "\n",
    "def lin(x, m):\n",
    "    return m * x\n",
    "\n",
    "popt, _ = curve_fit(lin, df.workers.values, df.speed_up.values)\n",
    "m = popt[0]\n",
    "sns.set_style(\"whitegrid\")\n",
    "sns.lmplot(x=\"workers\", y=\"speed_up\", data=df)\n",
    "x = np.arange(np.min(df.workers), np.max(df.workers)+1)\n",
    "plt.plot(x, x, \"k--\", label=\"Ideal scaling\")\n",
    "plt.legend()\n",
    "plt.title(f\"Multiprocessing (scaling = {m:f})\")\n",
    "plt.show()\n",
    "\n",
    "print(f\"Ideal scaling has gradient 1. Observed scaling: {m:f}\")"
   ]
  },
  {
   "cell_type": "code",
   "execution_count": 3,
   "metadata": {},
   "outputs": [
    {
     "data": {
      "text/html": [
       "<div>\n",
       "<style scoped>\n",
       "    .dataframe tbody tr th:only-of-type {\n",
       "        vertical-align: middle;\n",
       "    }\n",
       "\n",
       "    .dataframe tbody tr th {\n",
       "        vertical-align: top;\n",
       "    }\n",
       "\n",
       "    .dataframe thead th {\n",
       "        text-align: right;\n",
       "    }\n",
       "</style>\n",
       "<table border=\"1\" class=\"dataframe\">\n",
       "  <thead>\n",
       "    <tr style=\"text-align: right;\">\n",
       "      <th></th>\n",
       "      <th>secs_per_1000_rays</th>\n",
       "      <th>throughput_rays_per_sec</th>\n",
       "      <th>thrown</th>\n",
       "      <th>took</th>\n",
       "      <th>speed_up</th>\n",
       "    </tr>\n",
       "    <tr>\n",
       "      <th>workers</th>\n",
       "      <th></th>\n",
       "      <th></th>\n",
       "      <th></th>\n",
       "      <th></th>\n",
       "      <th></th>\n",
       "    </tr>\n",
       "  </thead>\n",
       "  <tbody>\n",
       "    <tr>\n",
       "      <th>1.0</th>\n",
       "      <td>34.766407</td>\n",
       "      <td>28.772056</td>\n",
       "      <td>5000.0</td>\n",
       "      <td>173.832036</td>\n",
       "      <td>1.023111</td>\n",
       "    </tr>\n",
       "    <tr>\n",
       "      <th>2.0</th>\n",
       "      <td>24.647051</td>\n",
       "      <td>40.590759</td>\n",
       "      <td>5000.0</td>\n",
       "      <td>123.235257</td>\n",
       "      <td>1.443374</td>\n",
       "    </tr>\n",
       "    <tr>\n",
       "      <th>3.0</th>\n",
       "      <td>20.990352</td>\n",
       "      <td>47.645110</td>\n",
       "      <td>5000.0</td>\n",
       "      <td>104.951759</td>\n",
       "      <td>1.694221</td>\n",
       "    </tr>\n",
       "    <tr>\n",
       "      <th>4.0</th>\n",
       "      <td>16.796765</td>\n",
       "      <td>59.586935</td>\n",
       "      <td>5000.0</td>\n",
       "      <td>83.983824</td>\n",
       "      <td>2.118862</td>\n",
       "    </tr>\n",
       "    <tr>\n",
       "      <th>5.0</th>\n",
       "      <td>13.523592</td>\n",
       "      <td>74.005464</td>\n",
       "      <td>5000.0</td>\n",
       "      <td>67.617959</td>\n",
       "      <td>2.631573</td>\n",
       "    </tr>\n",
       "    <tr>\n",
       "      <th>6.0</th>\n",
       "      <td>12.412531</td>\n",
       "      <td>80.639240</td>\n",
       "      <td>5000.0</td>\n",
       "      <td>62.062657</td>\n",
       "      <td>2.867465</td>\n",
       "    </tr>\n",
       "    <tr>\n",
       "      <th>7.0</th>\n",
       "      <td>10.207942</td>\n",
       "      <td>98.016794</td>\n",
       "      <td>5000.0</td>\n",
       "      <td>51.039709</td>\n",
       "      <td>3.485396</td>\n",
       "    </tr>\n",
       "  </tbody>\n",
       "</table>\n",
       "</div>"
      ],
      "text/plain": [
       "         secs_per_1000_rays  throughput_rays_per_sec  thrown        took  \\\n",
       "workers                                                                    \n",
       "1.0               34.766407                28.772056  5000.0  173.832036   \n",
       "2.0               24.647051                40.590759  5000.0  123.235257   \n",
       "3.0               20.990352                47.645110  5000.0  104.951759   \n",
       "4.0               16.796765                59.586935  5000.0   83.983824   \n",
       "5.0               13.523592                74.005464  5000.0   67.617959   \n",
       "6.0               12.412531                80.639240  5000.0   62.062657   \n",
       "7.0               10.207942                98.016794  5000.0   51.039709   \n",
       "\n",
       "         speed_up  \n",
       "workers            \n",
       "1.0      1.023111  \n",
       "2.0      1.443374  \n",
       "3.0      1.694221  \n",
       "4.0      2.118862  \n",
       "5.0      2.631573  \n",
       "6.0      2.867465  \n",
       "7.0      3.485396  "
      ]
     },
     "execution_count": 3,
     "metadata": {},
     "output_type": "execute_result"
    }
   ],
   "source": [
    "df_ave = df.groupby(\"workers\").mean()\n",
    "df_ave = df_ave.drop(columns=\"rep\")\n",
    "df_ave"
   ]
  }
 ],
 "metadata": {
  "kernelspec": {
   "display_name": "Python 3",
   "language": "python",
   "name": "python3"
  },
  "language_info": {
   "codemirror_mode": {
    "name": "ipython",
    "version": 3
   },
   "file_extension": ".py",
   "mimetype": "text/x-python",
   "name": "python",
   "nbconvert_exporter": "python",
   "pygments_lexer": "ipython3",
   "version": "3.7.8"
  }
 },
 "nbformat": 4,
 "nbformat_minor": 4
}
